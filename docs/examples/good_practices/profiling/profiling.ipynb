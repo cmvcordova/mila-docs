{
 "cells": [
  {
   "cell_type": "markdown",
   "metadata": {},
   "source": [
    "# Profiling your code"
   ]
  },
  {
   "cell_type": "markdown",
   "metadata": {},
   "source": [
    "TODO: Figure out how to add links to other parts of the Mila documentation from within the notebook, to include past headers such as:  \n",
    "Prerequisites Make sure to read the following sections of the documentation before using this example:\n",
    "\n",
    "[THIS EXAMPLE](/examples/frameworks/pytorch_setup/index)\n",
    "\n",
    "* :doc:`/examples/frameworks/pytorch_setup/index`"
   ]
  },
  {
   "cell_type": "markdown",
   "metadata": {},
   "source": [
    "Figuring out where your code may be performing slower than it needs to can be a contrived process. Fear not! There's ways to go about this.  \n",
    "In the present minimal example, we'll go through a basic profiling example that'll tackle the following:\n",
    "- Diagnosing if training or dataloading is the bottleneck in your code\n",
    "- Using the pytorch profiler to find additional bottlenecks\n",
    "- WIP Potential avenues for further optimization with torch.compile, additional workers, multiple GPUs, etc."
   ]
  },
  {
   "cell_type": "code",
   "execution_count": null,
   "metadata": {},
   "outputs": [],
   "source": [
    "# Show what we changed about main.py? (the important bits, the added metrics for example.)\n",
    "!python main.py --num-batches=20 --epochs=1 --skip-training"
   ]
  },
  {
   "cell_type": "code",
   "execution_count": null,
   "metadata": {},
   "outputs": [],
   "source": [
    "## Imports, setup and the like\n",
    "#!python main.py --num-batches=20 --epochs=1 --skip-training"
   ]
  },
  {
   "cell_type": "code",
   "execution_count": null,
   "metadata": {},
   "outputs": [],
   "source": [
    "## Throughput without training\n",
    "#!python main.py --num-batches=20 --epochs=1 --skip-training"
   ]
  },
  {
   "cell_type": "code",
   "execution_count": null,
   "metadata": {},
   "outputs": [],
   "source": [
    "## Throughput with training\n",
    "#!python main.py --num-batches=20 --epochs=1"
   ]
  },
  {
   "cell_type": "markdown",
   "metadata": {},
   "source": [
    "Comparing the throughput of the former two cells, we can determine that dataloading was/wasn't the bottleneck.  \n",
    "Did we leave any money on the table? Let's take a more in-depth look with the pytorch profiler."
   ]
  },
  {
   "cell_type": "code",
   "execution_count": null,
   "metadata": {},
   "outputs": [],
   "source": [
    "## Basic profiler setup"
   ]
  },
  {
   "cell_type": "code",
   "execution_count": null,
   "metadata": {},
   "outputs": [],
   "source": [
    "## Profiler run"
   ]
  },
  {
   "cell_type": "markdown",
   "metadata": {},
   "source": [
    "A-ha! [Component]'s utilization seems off. Let's introduce a quick fix."
   ]
  },
  {
   "cell_type": "code",
   "execution_count": null,
   "metadata": {},
   "outputs": [],
   "source": [
    "## Fix to last bottleneck\n",
    "\n",
    "#!python main.py --num-batches=20 --epochs=1 --skip-training  --num-workers=8"
   ]
  },
  {
   "cell_type": "code",
   "execution_count": null,
   "metadata": {},
   "outputs": [],
   "source": [
    "## New profiler run, with fixed bottleneck"
   ]
  },
  {
   "cell_type": "markdown",
   "metadata": {},
   "source": [
    "See? we now have a pretty telling difference in profiler outputs. Can we do any better?"
   ]
  },
  {
   "cell_type": "markdown",
   "metadata": {},
   "source": [
    " Show how the output of the profiler changes once this last bottleneck is fixed. Give hints as to how to keep identifying the next bottleneck, and potential avenues for further optimization (for example using something like torch.compile, or more workers, multiple GPUs, etc.)\n"
   ]
  },
  {
   "cell_type": "code",
   "execution_count": null,
   "metadata": {},
   "outputs": [],
   "source": [
    "## More code changes, potential avenues for improvement."
   ]
  }
 ],
 "metadata": {
  "kernelspec": {
   "display_name": "Python 3",
   "language": "python",
   "name": "python3"
  },
  "language_info": {
   "codemirror_mode": {
    "name": "ipython",
    "version": 3
   },
   "file_extension": ".py",
   "mimetype": "text/x-python",
   "name": "python",
   "nbconvert_exporter": "python",
   "pygments_lexer": "ipython3",
   "version": "3.10.11"
  }
 },
 "nbformat": 4,
 "nbformat_minor": 2
}
